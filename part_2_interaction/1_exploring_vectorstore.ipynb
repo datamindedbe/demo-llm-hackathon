{
 "cells": [
  {
   "cell_type": "code",
   "execution_count": null,
   "metadata": {},
   "outputs": [],
   "source": [
    "# the purpose of this notebook is become familiar with vector stores in general\n",
    "# and aws bedrock in particular\n",
    "\n",
    "# required setup\n",
    "import boto3\n",
    "import json\n",
    "import matplotlib.pyplot as plt\n",
    "# aws setup\n",
    "#boto3.setup_default_session(profile_name='conveyor-demo-profile') # not needed on conveyor [remove]\n",
    "\n",
    "bedrock = boto3.client('bedrock-agent-runtime', region_name='us-east-1') # note the region\n",
    "knowledge_base_id ='ECZYEUIJ59' # this is the id of the decisions knowledge base in english"
   ]
  },
  {
   "cell_type": "code",
   "execution_count": null,
   "metadata": {},
   "outputs": [],
   "source": [
    "# wrapper around the bedrock client retrieval method\n",
    "def retrieve(bedrock_client, knowledge_base_id, search_string, items=10):\n",
    "    retrievals = bedrock_client.retrieve(\n",
    "        knowledgeBaseId=knowledge_base_id,\n",
    "        retrievalQuery={\n",
    "            'text': search_string\n",
    "        },\n",
    "        retrievalConfiguration={\n",
    "            'vectorSearchConfiguration': {\n",
    "                'numberOfResults': items\n",
    "            }\n",
    "        }\n",
    "    )\n",
    "    return retrievals['retrievalResults']"
   ]
  },
  {
   "cell_type": "code",
   "execution_count": null,
   "metadata": {},
   "outputs": [],
   "source": [
    "results = retrieve(bedrock, knowledge_base_id, 'the covid 19 crises had an impact on mental health')\n",
    "print(results[0].keys())\n",
    "print(json.dumps(results, indent=2))"
   ]
  },
  {
   "cell_type": "code",
   "execution_count": null,
   "metadata": {},
   "outputs": [],
   "source": [
    "# what happens if we search for an exact string we know is in the knowledge base?\n",
    "results = retrieve(bedrock, knowledge_base_id, \"COVID-19: mental wellbeing action plan\\n\\n\\nThe coronavirus does not only affect physical health,\\nbut also has a major impact on the mental well-being of the\\npopulation. The Flemish Government therefore approves the action plan mentally.\\nwell-being or \\u201cCaring for tomorrow\\u201d is good. With that plan, she wants a strong signal.\\nindicate to the population that they are aware of the psychosocial consequences of the\\ntakes corona measures seriously and wants to implement adequate solutions. The\\nmeasures in the plan not only want the general population, but also\\nspecific target groups such as care providers, children, young people, families,\\npeople with a psychological or social vulnerability, people\\nwho have been seriously ill due to covid-19 and their loved ones, and the relatives of\\nsupport and strengthen deceased patients.\")\n",
    "print(json.dumps(results, indent=2))"
   ]
  },
  {
   "cell_type": "code",
   "execution_count": null,
   "metadata": {},
   "outputs": [],
   "source": [
    "# lets take a look at scores between queries\n",
    "num_results = 85\n",
    "x = range(num_results)\n",
    "\n",
    "query_nonsense = \"par gert fre fdv dew\"\n",
    "query_simple = \"the covid 19 crises had an impact on mental health\"\n",
    "query_exact = \"COVID-19: mental wellbeing action plan\\n\\n\\nThe coronavirus does not only affect physical health,\\nbut also has a major impact on the mental well-being of the\\npopulation. The Flemish Government therefore approves the action plan mentally.\\nwell-being or \\u201cCaring for tomorrow\\u201d is good. With that plan, she wants a strong signal.\\nindicate to the population that they are aware of the psychosocial consequences of the\\ntakes corona measures seriously and wants to implement adequate solutions. The\\nmeasures in the plan not only want the general population, but also\\nspecific target groups such as care providers, children, young people, families,\\npeople with a psychological or social vulnerability, people\\nwho have been seriously ill due to covid-19 and their loved ones, and the relatives of\\nsupport and strengthen deceased patients.\"\n",
    "query_simple_rephrased = \"emotional wellbeing was affected as a result of the coronavirus pandemic\"\n",
    "\n",
    "# for each query we will retrieve the top num_results results and plot the scores\n",
    "for query in [query_nonsense, query_simple, query_exact, query_simple_rephrased]:\n",
    "    scores = [item['score'] for item in retrieve(bedrock, knowledge_base_id, query, num_results)]\n",
    "    plt.plot(x, scores)\n",
    "plt.legend(['nonsense', 'simple', 'exact', 'rephrased'])"
   ]
  },
  {
   "cell_type": "code",
   "execution_count": null,
   "metadata": {},
   "outputs": [],
   "source": [
    "# lets take a look at different query lengths\n",
    "num_results = 85\n",
    "x = range(num_results)\n",
    "\n",
    "query_short = 'climate change'\n",
    "query_medium = 'the impacts of climate change in belgium'\n",
    "query_long = 'what can we expect the long term impact of climate change on the belgian economy to be and what are the best strategies to mitigate these impacts?'\n",
    "\n",
    "# for each query we will retrieve the top num_results results and plot the scores\n",
    "for query in [query_short, query_medium, query_long]:\n",
    "    scores = [item['score'] for item in retrieve(bedrock, knowledge_base_id, query, num_results)]\n",
    "    plt.plot(x, scores)\n",
    "plt.legend(['short', 'medium', 'long'])\n",
    "\n",
    "for query in [query_short, query_medium, query_long]:\n",
    "    text = retrieve(bedrock, knowledge_base_id, query, 1)[0]['content']['text']\n",
    "    print(query)\n",
    "    print(text)\n",
    "    print('_________________________')"
   ]
  },
  {
   "cell_type": "markdown",
   "metadata": {},
   "source": [
    "## where things start to break down"
   ]
  },
  {
   "cell_type": "code",
   "execution_count": null,
   "metadata": {},
   "outputs": [],
   "source": [
    "# exact lexical matching\n",
    "results = retrieve(bedrock, knowledge_base_id, \"Nelson Mandela\", 5)\n",
    "for item in results:\n",
    "    print(item['content']['text'])\n",
    "    print('_________________________')"
   ]
  },
  {
   "cell_type": "code",
   "execution_count": null,
   "metadata": {},
   "outputs": [],
   "source": [
    "# exact lexical matching\n",
    "results = retrieve(bedrock, knowledge_base_id, \"Alexander De Croo\", 5)\n",
    "for item in results:\n",
    "    print(item['content']['text'])\n",
    "    print('_________________________')"
   ]
  },
  {
   "cell_type": "code",
   "execution_count": null,
   "metadata": {},
   "outputs": [],
   "source": [
    "# relative time is not searchable\n",
    "query = \"what are the newest decisions\"\n",
    "results = retrieve(bedrock, knowledge_base_id, query, 5)\n",
    "for item in results:\n",
    "    print(item['content']['text'])\n",
    "    print('_________________________')"
   ]
  },
  {
   "cell_type": "code",
   "execution_count": null,
   "metadata": {},
   "outputs": [],
   "source": []
  }
 ],
 "metadata": {
  "kernelspec": {
   "display_name": "llm-hackathon",
   "language": "python",
   "name": "python3"
  },
  "language_info": {
   "codemirror_mode": {
    "name": "ipython",
    "version": 3
   },
   "file_extension": ".py",
   "mimetype": "text/x-python",
   "name": "python",
   "nbconvert_exporter": "python",
   "pygments_lexer": "ipython3",
   "version": "3.10.12"
  }
 },
 "nbformat": 4,
 "nbformat_minor": 2
}

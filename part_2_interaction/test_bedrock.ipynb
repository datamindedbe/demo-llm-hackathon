{
 "cells": [
  {
   "cell_type": "code",
   "execution_count": 2,
   "metadata": {},
   "outputs": [],
   "source": [
    "# imports\n",
    "import boto3"
   ]
  },
  {
   "cell_type": "code",
   "execution_count": 3,
   "metadata": {},
   "outputs": [],
   "source": [
    "# aws setup\n",
    "AWS_PROFILE_NAME= 'conveyor-demo-profile'\n",
    "boto3.setup_default_session(profile_name=AWS_PROFILE_NAME)"
   ]
  },
  {
   "cell_type": "code",
   "execution_count": 4,
   "metadata": {},
   "outputs": [],
   "source": [
    "bedrock = boto3.client('bedrock-agent-runtime', region_name='us-east-1')\n",
    "knowledge_base_id ='KMT7HQIDNC'"
   ]
  },
  {
   "cell_type": "code",
   "execution_count": 5,
   "metadata": {},
   "outputs": [
    {
     "name": "stdout",
     "output_type": "stream",
     "text": [
      "{'ResponseMetadata': {'RequestId': '54ed925b-e917-4ca2-a28f-b46331ba6b75', 'HTTPStatusCode': 200, 'HTTPHeaders': {'date': 'Sun, 14 Apr 2024 10:36:27 GMT', 'content-type': 'application/json', 'content-length': '12998', 'connection': 'keep-alive', 'x-amzn-requestid': '54ed925b-e917-4ca2-a28f-b46331ba6b75'}, 'RetryAttempts': 0}, 'retrievalResults': [{'content': {'text': 'Instituut voor Tropische Geneeskunde (ITG): erkenning Master in Tropical\\nMedicine\\nOntwerpbesluit van de Vlaamse Regering tot erkenning van de master-na-\\nmasteropleiding Master in Tropical Medicine als nieuwe opleiding van het\\nInstituut voor Tropische Geneeskunde\\n\\nDe Vlaamse Regering erkent de Master in Tropical  Medicine, specificatie of\\nScience, als nieuwe master-na-masteropleiding van het Instituut voor Tropische\\nGeneeskunde, met volgende afstudeerrichtingen: Clinical Sciences en\\nBiomedical Sciences.'}, 'location': {'s3Location': {'uri': 's3://llmhackathon-demo/data/reduced/2020/02/2020-02-14-nota-5E42619552A2B0000800044D.txt'}, 'type': 'S3'}, 'metadata': {'x-amz-bedrock-kb-source-uri': 's3://llmhackathon-demo/data/reduced/2020/02/2020-02-14-nota-5E42619552A2B0000800044D.txt'}, 'score': 0.506446}, {'content': {'text': \"KUL: erkenning Master of Medical Physics\\nOntwerpbesluit van de Vlaamse Regering tot erkenning van de initiële\\nmasteropleiding “Master of Medical Physics”, met specificatie “of Science”,\\nals nieuwe opleiding van de Katholieke Universiteit Leuven, vestiging\\nadministratief arrondissement Leuven\\n\\n\\u200bDe Vlaamse Regering erkent de masteropleiding 'Master of Medical Physics'\\nmet specificatie 'of Science' als nieuwe opleiding van de Katholieke\\nUniversiteit Leuven , gezamenlijk georganiseerd met de Université Catholique\\nde Louvain, vestiging administratief arrondissement Leuven, en kent de\\nvrijstelling toe van de voorwaarde om een Nederlandstalige equivalente\\nopleiding aan te bieden.\"}, 'location': {'s3Location': {'uri': 's3://llmhackathon-demo/data/reduced/2022/05/2022-05-20-nota-6284BB1A479218B0ED55BB99.txt'}, 'type': 'S3'}, 'metadata': {'x-amz-bedrock-kb-source-uri': 's3://llmhackathon-demo/data/reduced/2022/05/2022-05-20-nota-6284BB1A479218B0ED55BB99.txt'}, 'score': 0.5007497}, {'content': {'text': \"Instituut voor Tropische Geneeskunde (ITG) en P.A.R.T.S. (Performing Arts,\\nResearch and Training Studios): verlenging geldigheidsduur aanvragen\\nopleidingen\\nOntwerpbesluit van de Vlaamse Regering tot verlenging van de geldigheidsduur\\nvan de besluiten over de aanvragen van de opleidingen “Master of Tropical\\nMedicine”, met specificatie “of Science”, aangeboden door het Instituut voor\\nTropische Geneeskunde, en “Master in Dance” aangeboden door P.A.R.T.S.\\n(Performing Arts, Research and Training Studios)\\n\\nDe Vlaamse Regering verlengt de geldigheidsduur  van de besluiten over\\nde aanvragen van de opleidingen 'Master of Tropical Medicine' , met\\nspecificatie 'of Science', aangeboden door het Instituut voor Tropische\\nGeneeskunde, en 'Master in Dance',  aangeboden door P.A.R.T.S. (Performing\\nArts, Research and Training Studios) met een jaar, tot 30 september 2024.\\nDe verlenging van de erkenningstermijn van deze opleidingen maakt het\\nmogelijk de externe beoordeling gelijktijdig te plannen en te clusteren met de\\nexterne beoordelingen van de andere opleidingen die het Instituut voor\\nTropische Geneeskunde en P.A.R.T.S. aanbiedt.\"}, 'location': {'s3Location': {'uri': 's3://llmhackathon-demo/data/reduced/2022/07/2022-07-15-nota-62CE79EC8E6C4430A8898931.txt'}, 'type': 'S3'}, 'metadata': {'x-amz-bedrock-kb-source-uri': 's3://llmhackathon-demo/data/reduced/2022/07/2022-07-15-nota-62CE79EC8E6C4430A8898931.txt'}, 'score': 0.49809033}, {'content': {'text': 'RegMed XB: afsluitende financiering 2022-2023 van het Bio-Kidney project\\nOntwerpbesluit van de Vlaamse Regering tot toekenning van de subsidie aan VIB\\nin het kader van de strategische roadmap RegMed XB\\n\\nRegeneratieve geneeskunde heeft tot doel de functie van zieke of\\nbeschadigde weefsels te herstellen. In RegMed XB (Regeneratieve Medicine\\ncrossing Borders) werken Nederlandse en Vlaamse kennisinstellingen,\\nuniversiteiten, academische ziekenhuizen, gezondheidsfondsen en bedrijven\\nsamen aan nieuwe oplossingen voor en met patiënten met diabetes, nierziekten,\\nartrose en cardiovasculaire aandoeningen. Binnen Vlaanderen zijn twee\\ntoonaangevende projecten uitgebouwd, in samenwerking met Nederland: BioJoint\\n(KULeuven) en Bio-Kidney (VIB). De Vlaamse Regering beslist nu 1 miljoen\\neuro in te zetten voor de afsluitende financiering van het Bio-Kidney\\nproject dat de creatie beoogt van een functionerende subeenheid van een\\nbio-engineered nier.'}, 'location': {'s3Location': {'uri': 's3://llmhackathon-demo/data/reduced/2023/12/2023-12-22-nota-658152F3E2E2C9E5814C1ED0.txt'}, 'type': 'S3'}, 'metadata': {'x-amz-bedrock-kb-source-uri': 's3://llmhackathon-demo/data/reduced/2023/12/2023-12-22-nota-658152F3E2E2C9E5814C1ED0.txt'}, 'score': 0.49750623}, {'content': {'text': '300.000 euro subsidie aan CEBAM vzw voor het verstrekken van evidence based\\ngezondheidsvoorlichting in 2024\\nOntwerpbesluit van de Vlaamse Regering tot toekenning van een subsidie van de\\nVlaamse Gemeenschap voor het jaar 2024 aan CEBAM vzw – Belgisch Centrum voor\\nEvidence-Based Medicine voor het verstrekken van evidence based\\ngezondheidsvoorlichting\\n\\nDe Vlaamse Regering kent 300.000 euro subsidie toe aan CEBAM vzw, het\\nBelgisch Centrum voor Evidence-Based Medicine, voor het verstrekken van\\nevidence based gezondheidsvoorlichting in 2024. De kernopdracht van CEBAM is\\nhet zoeken, het kritisch beoordelen en het verspreiden van wetenschappelijk\\ncorrecte praktische informatie.'}, 'location': {'s3Location': {'uri': 's3://llmhackathon-demo/data/reduced/2023/12/2023-12-15-nota-65781FFAE2E2C9E5814C0185.txt'}, 'type': 'S3'}, 'metadata': {'x-amz-bedrock-kb-source-uri': 's3://llmhackathon-demo/data/reduced/2023/12/2023-12-15-nota-65781FFAE2E2C9E5814C0185.txt'}, 'score': 0.4949022}, {'content': {'text': 'Subsidie RegMed XB Flanders voor uitvoering werkprogramma en operationele\\nroadmap 2024-2028\\nOntwerpbesluit van de Vlaamse Regering tot toekenning van de subsidie aan\\nRegMed XB Flanders in het kader van de strategische roadmap RegMed XB\\n\\nRegeneratieve geneeskunde wil zieke of beschadigde weefsels en organen, en de\\nfuncties ervan, herstellen, en richt zich op enkele van de meest ingrijpende\\nen dure chronische aandoeningen. In RegMed XB (Regeneratieve Medicine\\ncrossing Borders) werken Nederlandse en Vlaamse kennisinstellingen,\\nuniversiteiten, academische ziekenhuizen, gezondheidsfondsen en bedrijven -\\nondersteund door regionale en nationale overheden - samen aan nieuwe\\noplossingen voor en met patiënten met diabetes, nierziekten, artrose en recent\\nook cardiovasculaire aandoeningen. De Vlaamse Regering keurt nu de\\nvoorgestelde werking en financiering van RegMed XB Flanders met betrekking\\ntot het werkprogramma en de operationele roadmap voor de periode\\n2024-2028 goed. Voor de implementatie van het eerste jaar van het\\nwerkprogramma van RegMed XB Flanders wordt nu 2,88 miljoen euro voorzien.\\nDe beslissing over de subsidies zal per werkingsjaar door de Vlaamse Regering\\ngenomen worden op basis van evaluatie van het voorgaande werkingsjaar.'}, 'location': {'s3Location': {'uri': 's3://llmhackathon-demo/data/reduced/2023/12/2023-12-22-nota-658151A7E2E2C9E5814C1E8D.txt'}, 'type': 'S3'}, 'metadata': {'x-amz-bedrock-kb-source-uri': 's3://llmhackathon-demo/data/reduced/2023/12/2023-12-22-nota-658151A7E2E2C9E5814C1E8D.txt'}, 'score': 0.49434748}, {'content': {'text': \"UGent: erkenning masteropleiding 'Master of Pharmaceutical Engineering'\\nOntwerpbesluit van de Vlaamse Regering tot erkenning van de initiële\\nmasteropleiding Master of Pharmaceutical Engineering als nieuwe opleiding van\\nde Universiteit Gent, vestiging Gent\\n\\n\\u200bDe Vlaamse Regering erkent de masteropleiding 'Master of Pharmaceutical\\nEngineering', specificatie of Science, als nieuwe opleiding van de\\nUniversiteit Gent , vestigingsplaats Gent. De opleiding wordt georganiseerd\\nvanaf het academiejaar 2022-2023.\"}, 'location': {'s3Location': {'uri': 's3://llmhackathon-demo/data/reduced/2022/05/2022-05-06-nota-6272346A1C4A193816C3063A.txt'}, 'type': 'S3'}, 'metadata': {'x-amz-bedrock-kb-source-uri': 's3://llmhackathon-demo/data/reduced/2022/05/2022-05-06-nota-6272346A1C4A193816C3063A.txt'}, 'score': 0.49277803}, {'content': {'text': 'Continuering strategische roadmap Regmed XB\\nDrie ontwerpbesluiten van de Vlaamse Regering\\n\\nRegeneratieve geneeskunde heeft tot doel de functie van zieke of\\nbeschadigde weefsels te herstellen. Hiermee zouden wat nu chronische\\naandoeningen zijn, die veelal langdurige, kostbare zorg vereisen, in de\\ntoekomst kunnen genezen worden. In 2018 werd in Nederland de Stichting\\nRegmed XB opgericht en werd met de Vlaamse partners intens gewerkt aan de\\ntotstandkoming van het gezamenlijk strategiedocument ‘Vlaams-Nederlandse\\nsamenwerking in RegMed XB’ dat in september 2018 gefinaliseerd werd. In RegMed\\nXB werken Nederlandse en Vlaamse kennisinstellingen, universiteiten,\\nacademische ziekenhuizen, gezondheidsfondsen en bedrijven - ondersteund door\\nregionale en nationale overheden - samen aan nieuwe oplossingen voor en met\\npatiënten met diabetes, nierziekten, artrose en recent ook cardiovasculaire\\naandoeningen. RegMed XB versterkt en bundelt het onderzoek dat aan de\\ndeelnemende kennisinstellingen plaatsvindt en ontwikkelt het instrumentarium\\nen het netwerk om dat onderzoek doeltreffend te valoriseren. In het kader van\\nde strategische roadmap RegMed XB, kent de Vlaamse Regering nu 1 miljoen\\neuro subsidie toe aan het Vlaams Instituut voor Biotechnologie voor het\\nverderzetten van het project BioKidney en 1,94 miljoen euro aan  KU\\nLeuven Research & Development om de continuïteit van het BioJoint-project te\\nverzekeren en voor de ontwikkeling van een weefselplatform ORBIT. Ze keurt\\nmeteen het daarbijhorende herverdelingsbesluit goed.'}, 'location': {'s3Location': {'uri': 's3://llmhackathon-demo/data/reduced/2021/07/2021-07-16-nota-60ED474D364ED900080013FC.txt'}, 'type': 'S3'}, 'metadata': {'x-amz-bedrock-kb-source-uri': 's3://llmhackathon-demo/data/reduced/2021/07/2021-07-16-nota-60ED474D364ED900080013FC.txt'}, 'score': 0.49250042}, {'content': {'text': 'Aanvullende programmatienorm voor toestellen voor magnetische resonantie\\ntomografie (NMR)\\nVoorontwerp van besluit van de Vlaamse Regering tot vaststelling van een\\naanvullende programmatienorm voor toestellen voor magnetische resonantie\\ntomografie in het Vlaams Gewest\\n\\nDe NMR-toestellen (Nucleaire Magnetische Resonantie), ook wel MRI (Magnetic\\nResonance Imaging) of MRT (Magnetische Resonantie Tomograaf) genoemd, vormen\\neen essentieel onderdeel van de medische diagnostiek. De Vlaamse Regering wil\\nin uitvoering van de aanvulling bij het protocolakkoord met de federale\\noverheid over medische beeldvorming in een eerste instantie de vijf\\nziekenhuizen in Vlaanderen die nog niet over een dienst beschikken waarin een\\nmagnetische resonantie tomograaf werd opgesteld , de mogelijkheid bieden\\ntot het  verkrijgen van een erkenning voor de exploitatie ervan, evenals de\\ntwee ziekenhuizen die over een erkende dienst beschikken maar\\ngeconfronteerd werden met de vernietiging van de planningsvergunning van\\n2015 en geen nieuwe vergunning verkregen. Daarom stelt ze nu, na advies van de\\nRaad van State, definitief  een aanvullende programmatienorm vast voor\\ntoestellen voor magnetische resonantie tomografie.'}, 'location': {'s3Location': {'uri': 's3://llmhackathon-demo/data/reduced/2020/09/2020-09-04-nota-5F4E06520379AD00080001E8.txt'}, 'type': 'S3'}, 'metadata': {'x-amz-bedrock-kb-source-uri': 's3://llmhackathon-demo/data/reduced/2020/09/2020-09-04-nota-5F4E06520379AD00080001E8.txt'}, 'score': 0.490939}, {'content': {'text': 'Aanvullende programmatienorm voor toestellen voor magnetische resonantie\\ntomografie (NMR)\\nVoorontwerp van besluit van de Vlaamse Regering tot vaststelling van een\\naanvullende programmatienorm voor toestellen voor magnetische resonantie\\ntomografie in het Vlaams Gewest\\n\\nDe NMR-toestellen (Nucleaire Magnetische Resonantie), ook wel MRI (Magnetic\\nResonance Imaging) of MRT (Magnetische ResonantieTomograaf) genoemd, vormen\\neen essentieel onderdeel van de medische diagnostiek. De Vlaamse Regering wil\\nin uitvoering van de aanvulling bij het protocolakkoord met de federale\\noverheid over medische beeldvorming in een eerste instantie de vijf\\nziekenhuizen in Vlaanderen die nog niet over een dienst beschikken waarin een\\nmagnetische resonantie tomograaf werd opgesteld , de mogelijkheid bieden\\ntot verkrijgen van een erkenning voor de exploitatie ervan, evenals de\\ntwee ziekenhuizen die over een erkende dienst beschikken maar\\ngeconfronteerd werden met de vernietiging van de planningsvergunning van\\n2015 en geen nieuwe vergunning verkregen. Daarom stelt ze nu principiëel een\\naanvullende programmatienorm vast voor toestellen voor magnetische\\nresonantie tomografie. Over dit besluit wordt het advies gevraagd van de Raad\\nvan State.'}, 'location': {'s3Location': {'uri': 's3://llmhackathon-demo/data/reduced/2020/07/2020-07-10-nota-5F04209CFA87E00008000522.txt'}, 'type': 'S3'}, 'metadata': {'x-amz-bedrock-kb-source-uri': 's3://llmhackathon-demo/data/reduced/2020/07/2020-07-10-nota-5F04209CFA87E00008000522.txt'}, 'score': 0.4902681}]}\n"
     ]
    }
   ],
   "source": [
    "retrievals = bedrock.retrieve(\n",
    "    knowledgeBaseId=knowledge_base_id,\n",
    "            retrievalQuery={\n",
    "                'text': 'medicine'\n",
    "            },\n",
    "            retrievalConfiguration={\n",
    "                'vectorSearchConfiguration': {\n",
    "                    'numberOfResults': 10\n",
    "                }\n",
    "            }\n",
    "        )\n",
    "\n",
    "print(retrievals)"
   ]
  }
 ],
 "metadata": {
  "kernelspec": {
   "display_name": "llm-hackathon",
   "language": "python",
   "name": "python3"
  },
  "language_info": {
   "codemirror_mode": {
    "name": "ipython",
    "version": 3
   },
   "file_extension": ".py",
   "mimetype": "text/x-python",
   "name": "python",
   "nbconvert_exporter": "python",
   "pygments_lexer": "ipython3",
   "version": "3.12.0"
  }
 },
 "nbformat": 4,
 "nbformat_minor": 2
}
